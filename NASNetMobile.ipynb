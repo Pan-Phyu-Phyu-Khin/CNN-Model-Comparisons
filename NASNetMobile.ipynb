{
  "nbformat": 4,
  "nbformat_minor": 0,
  "metadata": {
    "colab": {
      "provenance": [],
      "gpuType": "T4"
    },
    "kernelspec": {
      "name": "python3",
      "display_name": "Python 3"
    },
    "language_info": {
      "name": "python"
    },
    "accelerator": "GPU"
  },
  "cells": [
    {
      "cell_type": "code",
      "execution_count": 27,
      "metadata": {
        "id": "cA3O6lA0-31l"
      },
      "outputs": [],
      "source": [
        "from tensorflow.keras.applications.nasnet import NASNetMobile, preprocess_input, decode_predictions\n",
        "from tensorflow.keras.preprocessing import image\n",
        "import numpy as np"
      ]
    },
    {
      "cell_type": "code",
      "execution_count": 28,
      "metadata": {
        "id": "oVHdw75F-9nP",
        "colab": {
          "base_uri": "https://localhost:8080/"
        },
        "outputId": "01dbca04-79fd-46b1-9380-0de1c6a0ff50"
      },
      "outputs": [
        {
          "output_type": "stream",
          "name": "stdout",
          "text": [
            "Downloading data from https://storage.googleapis.com/tensorflow/keras-applications/nasnet/NASNet-mobile.h5\n",
            "\u001b[1m24227760/24227760\u001b[0m \u001b[32m━━━━━━━━━━━━━━━━━━━━\u001b[0m\u001b[37m\u001b[0m \u001b[1m0s\u001b[0m 0us/step\n"
          ]
        }
      ],
      "source": [
        "# Define Pretrained model\n",
        "model = NASNetMobile(weights='imagenet')"
      ]
    },
    {
      "cell_type": "code",
      "execution_count": 29,
      "metadata": {
        "id": "rc1DIV6K_HoN"
      },
      "outputs": [],
      "source": [
        "img_path = 'cat.jpg'\n",
        "img = image.load_img(img_path, target_size=(224,224))\n",
        "x = image.img_to_array(img)\n",
        "x = np.expand_dims(x, axis=0)\n",
        "x = preprocess_input(x)"
      ]
    },
    {
      "cell_type": "code",
      "execution_count": 30,
      "metadata": {
        "id": "l-OhA5MaxQar",
        "colab": {
          "base_uri": "https://localhost:8080/"
        },
        "outputId": "d9cf89f0-e97b-45c7-e2a4-906903f7e2f9"
      },
      "outputs": [
        {
          "output_type": "stream",
          "name": "stdout",
          "text": [
            "\u001b[1m1/1\u001b[0m \u001b[32m━━━━━━━━━━━━━━━━━━━━\u001b[0m\u001b[37m\u001b[0m \u001b[1m14s\u001b[0m 14s/step\n",
            "tabby 56.809961795806885\n",
            "Egyptian_cat 20.215709507465363\n",
            "tiger_cat 11.811324208974838\n",
            "Persian_cat 2.4253390729427338\n",
            "lynx 1.9030332565307617\n"
          ]
        }
      ],
      "source": [
        "# id: i[0], object: i[1], probability: i[2]\n",
        "prediction = model.predict(x)\n",
        "y = decode_predictions(prediction, top=5)[0] # take a list in a list\n",
        "for i in y:\n",
        "    print(i[1], float(100*i[2]))"
      ]
    }
  ]
}