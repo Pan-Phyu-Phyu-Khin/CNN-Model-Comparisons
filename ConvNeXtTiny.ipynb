{
  "nbformat": 4,
  "nbformat_minor": 0,
  "metadata": {
    "colab": {
      "provenance": [],
      "gpuType": "T4"
    },
    "kernelspec": {
      "name": "python3",
      "display_name": "Python 3"
    },
    "language_info": {
      "name": "python"
    },
    "accelerator": "GPU"
  },
  "cells": [
    {
      "cell_type": "code",
      "execution_count": 35,
      "metadata": {
        "id": "cA3O6lA0-31l"
      },
      "outputs": [],
      "source": [
        "from tensorflow.keras.applications.convnext import ConvNeXtTiny, preprocess_input, decode_predictions\n",
        "from tensorflow.keras.preprocessing import image\n",
        "import numpy as np"
      ]
    },
    {
      "cell_type": "code",
      "execution_count": 36,
      "metadata": {
        "id": "oVHdw75F-9nP",
        "colab": {
          "base_uri": "https://localhost:8080/"
        },
        "outputId": "acfcbd6b-7228-4421-cbb6-2100146748a5"
      },
      "outputs": [
        {
          "output_type": "stream",
          "name": "stdout",
          "text": [
            "Downloading data from https://storage.googleapis.com/tensorflow/keras-applications/convnext/convnext_tiny.h5\n",
            "\u001b[1m114735104/114735104\u001b[0m \u001b[32m━━━━━━━━━━━━━━━━━━━━\u001b[0m\u001b[37m\u001b[0m \u001b[1m0s\u001b[0m 0us/step\n"
          ]
        }
      ],
      "source": [
        "# Define Pretrained model\n",
        "model = ConvNeXtTiny(weights='imagenet')"
      ]
    },
    {
      "cell_type": "code",
      "execution_count": 38,
      "metadata": {
        "id": "rc1DIV6K_HoN"
      },
      "outputs": [],
      "source": [
        "img_path = 'cat.jpg'\n",
        "img = image.load_img(img_path, target_size=(224,224))\n",
        "x = image.img_to_array(img)\n",
        "x = np.expand_dims(x, axis=0)\n",
        "x = preprocess_input(x)"
      ]
    },
    {
      "cell_type": "code",
      "execution_count": 39,
      "metadata": {
        "id": "l-OhA5MaxQar",
        "colab": {
          "base_uri": "https://localhost:8080/"
        },
        "outputId": "94c3f595-8795-4857-c4c6-9db300555ad3"
      },
      "outputs": [
        {
          "output_type": "stream",
          "name": "stderr",
          "text": [
            "WARNING:tensorflow:6 out of the last 6 calls to <function TensorFlowTrainer.make_predict_function.<locals>.one_step_on_data_distributed at 0x793a9fb68a40> triggered tf.function retracing. Tracing is expensive and the excessive number of tracings could be due to (1) creating @tf.function repeatedly in a loop, (2) passing tensors with different shapes, (3) passing Python objects instead of tensors. For (1), please define your @tf.function outside of the loop. For (2), @tf.function has reduce_retracing=True option that can avoid unnecessary retracing. For (3), please refer to https://www.tensorflow.org/guide/function#controlling_retracing and https://www.tensorflow.org/api_docs/python/tf/function for  more details.\n"
          ]
        },
        {
          "output_type": "stream",
          "name": "stdout",
          "text": [
            "\u001b[1m1/1\u001b[0m \u001b[32m━━━━━━━━━━━━━━━━━━━━\u001b[0m\u001b[37m\u001b[0m \u001b[1m4s\u001b[0m 4s/step\n",
            "tabby 44.18962299823761\n",
            "Egyptian_cat 34.7973495721817\n",
            "tiger_cat 7.016501575708389\n",
            "lynx 1.545491348952055\n",
            "Persian_cat 1.065770909190178\n"
          ]
        }
      ],
      "source": [
        "# id: i[0], object: i[1], probability: i[2]\n",
        "prediction = model.predict(x)\n",
        "y = decode_predictions(prediction, top=5)[0] # take a list in a list\n",
        "for i in y:\n",
        "    print(i[1], float(100*i[2]))"
      ]
    }
  ]
}