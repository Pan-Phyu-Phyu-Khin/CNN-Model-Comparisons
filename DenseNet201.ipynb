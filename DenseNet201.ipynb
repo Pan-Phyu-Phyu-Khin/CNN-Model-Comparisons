{
  "nbformat": 4,
  "nbformat_minor": 0,
  "metadata": {
    "colab": {
      "provenance": [],
      "gpuType": "T4"
    },
    "kernelspec": {
      "name": "python3",
      "display_name": "Python 3"
    },
    "language_info": {
      "name": "python"
    },
    "accelerator": "GPU"
  },
  "cells": [
    {
      "cell_type": "code",
      "execution_count": 31,
      "metadata": {
        "id": "cA3O6lA0-31l"
      },
      "outputs": [],
      "source": [
        "from tensorflow.keras.applications.densenet import DenseNet201, preprocess_input, decode_predictions\n",
        "from tensorflow.keras.preprocessing import image\n",
        "import numpy as np"
      ]
    },
    {
      "cell_type": "code",
      "execution_count": 32,
      "metadata": {
        "id": "oVHdw75F-9nP",
        "colab": {
          "base_uri": "https://localhost:8080/"
        },
        "outputId": "2ef481f8-0e70-4502-d708-f34b251e8d02"
      },
      "outputs": [
        {
          "output_type": "stream",
          "name": "stdout",
          "text": [
            "Downloading data from https://storage.googleapis.com/tensorflow/keras-applications/densenet/densenet201_weights_tf_dim_ordering_tf_kernels.h5\n",
            "\u001b[1m82524592/82524592\u001b[0m \u001b[32m━━━━━━━━━━━━━━━━━━━━\u001b[0m\u001b[37m\u001b[0m \u001b[1m1s\u001b[0m 0us/step\n"
          ]
        }
      ],
      "source": [
        "# Define Pretrained model\n",
        "model = DenseNet201(weights='imagenet')"
      ]
    },
    {
      "cell_type": "code",
      "execution_count": 33,
      "metadata": {
        "id": "rc1DIV6K_HoN"
      },
      "outputs": [],
      "source": [
        "img_path = 'cat.jpg'\n",
        "img = image.load_img(img_path, target_size=(224,224))\n",
        "x = image.img_to_array(img)\n",
        "x = np.expand_dims(x, axis=0)\n",
        "x = preprocess_input(x)"
      ]
    },
    {
      "cell_type": "code",
      "execution_count": 34,
      "metadata": {
        "id": "l-OhA5MaxQar",
        "colab": {
          "base_uri": "https://localhost:8080/"
        },
        "outputId": "4771288b-f0b6-4fa6-daa9-3242a172636f"
      },
      "outputs": [
        {
          "output_type": "stream",
          "name": "stderr",
          "text": [
            "WARNING:tensorflow:5 out of the last 5 calls to <function TensorFlowTrainer.make_predict_function.<locals>.one_step_on_data_distributed at 0x793a01383e20> triggered tf.function retracing. Tracing is expensive and the excessive number of tracings could be due to (1) creating @tf.function repeatedly in a loop, (2) passing tensors with different shapes, (3) passing Python objects instead of tensors. For (1), please define your @tf.function outside of the loop. For (2), @tf.function has reduce_retracing=True option that can avoid unnecessary retracing. For (3), please refer to https://www.tensorflow.org/guide/function#controlling_retracing and https://www.tensorflow.org/api_docs/python/tf/function for  more details.\n"
          ]
        },
        {
          "output_type": "stream",
          "name": "stdout",
          "text": [
            "\u001b[1m1/1\u001b[0m \u001b[32m━━━━━━━━━━━━━━━━━━━━\u001b[0m\u001b[37m\u001b[0m \u001b[1m21s\u001b[0m 21s/step\n",
            "tabby 32.770806550979614\n",
            "Persian_cat 23.09975177049637\n",
            "tiger_cat 20.84062397480011\n",
            "lynx 18.071871995925903\n",
            "Egyptian_cat 4.232083633542061\n"
          ]
        }
      ],
      "source": [
        "# id: i[0], object: i[1], probability: i[2]\n",
        "prediction = model.predict(x)\n",
        "y = decode_predictions(prediction, top=5)[0] # take a list in a list\n",
        "for i in y:\n",
        "    print(i[1], float(100*i[2]))"
      ]
    }
  ]
}